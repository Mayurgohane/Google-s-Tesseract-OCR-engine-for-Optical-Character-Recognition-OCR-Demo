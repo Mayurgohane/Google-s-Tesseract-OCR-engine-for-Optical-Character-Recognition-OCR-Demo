{
 "cells": [
  {
   "cell_type": "markdown",
   "id": "121b81f8",
   "metadata": {},
   "source": [
    "# Pytesseract"
   ]
  },
  {
   "cell_type": "code",
   "execution_count": 2,
   "id": "a94e3873",
   "metadata": {},
   "outputs": [
    {
     "data": {
      "text/plain": [
       "'C:\\\\Program Files\\\\Tesseract-OCR\\\\tesseract.exe'"
      ]
     },
     "execution_count": 2,
     "metadata": {},
     "output_type": "execute_result"
    }
   ],
   "source": [
    "import pytesseract\n",
    "\n",
    "tesseract_path = r\"C:\\Program Files\\Tesseract-OCR\\tesseract.exe\"\n",
    "tesseract_path"
   ]
  },
  {
   "cell_type": "code",
   "execution_count": 3,
   "id": "2d7456ea",
   "metadata": {},
   "outputs": [],
   "source": [
    "pytesseract.pytesseract.tesseract_cmd = tesseract_path"
   ]
  },
  {
   "cell_type": "code",
   "execution_count": 5,
   "id": "26bccfe5",
   "metadata": {},
   "outputs": [
    {
     "name": "stdout",
     "output_type": "stream",
     "text": [
      "INCOME TAX DEPARTMENT GOVT. OF Uhl\n",
      "MONIKA MAHADEV SHINDE\n",
      "MAHADEV SHINDE\n",
      "31/10/1992\n",
      "\n",
      "Permanent Account Number\n",
      "\n",
      "EJAPS0276M *\n",
      "MonuIkA 74 <sHINDE\n",
      "\n",
      "\n"
     ]
    }
   ],
   "source": [
    "image_path = r\"D:\\SatyajitD\\Velocity_Jan_23\\03_06\\pan2.jpeg\"\n",
    "\n",
    "text = pytesseract.image_to_string(image_path)\n",
    "print(text)"
   ]
  },
  {
   "cell_type": "code",
   "execution_count": null,
   "id": "ce969b7c",
   "metadata": {},
   "outputs": [],
   "source": [
    "pdf2image --> Converts PDF file into PIL object (Python Image Library)\n",
    "\n",
    "pdftotext --> Converts PDF to text\n",
    "\n",
    "tabula-py --> Extract tabular data fram pdf\n",
    "\n",
    "pyPdf2 --> PDF to text\n",
    "\n",
    "camlot --> Exctract tabular data from PDF\n",
    "\n",
    "OCR -->\n",
    "Pytesseract\n",
    "Google Vision\n",
    "Amazon Textract"
   ]
  },
  {
   "cell_type": "code",
   "execution_count": 6,
   "id": "c4a969e0",
   "metadata": {},
   "outputs": [
    {
     "name": "stdout",
     "output_type": "stream",
     "text": [
      "See\n",
      "\n",
      "ee\n",
      "\n",
      "arr are\n",
      "at FR4yo0B'2/06/1985\n",
      "fee /FEMALE\n",
      "\n",
      "0000 0000 0000 LD\n",
      "\n",
      "Seng -31at atest ar atin\n",
      "\n",
      "\n"
     ]
    }
   ],
   "source": [
    "aadhar_path = r\"D:\\SatyajitD\\Velocity_Jan_23\\03_06\\aadhar1.jpg\"\n",
    "\n",
    "text = pytesseract.image_to_string(aadhar_path)\n",
    "print(text)"
   ]
  },
  {
   "cell_type": "code",
   "execution_count": 7,
   "id": "c3a1baed",
   "metadata": {},
   "outputs": [],
   "source": [
    "import os"
   ]
  },
  {
   "cell_type": "code",
   "execution_count": 8,
   "id": "8b45ce05",
   "metadata": {},
   "outputs": [
    {
     "data": {
      "text/plain": [
       "'D:\\\\SatyajitD\\\\Velocity_Jan_23\\\\03_06'"
      ]
     },
     "execution_count": 8,
     "metadata": {},
     "output_type": "execute_result"
    }
   ],
   "source": [
    "os.getcwd()"
   ]
  },
  {
   "cell_type": "code",
   "execution_count": 9,
   "id": "f70af00a",
   "metadata": {},
   "outputs": [],
   "source": [
    "os.makedirs(r\"D:\\\\SatyajitD\\\\Velocity_Jan_23\\\\03_06\\data\\PAN\\image\")"
   ]
  },
  {
   "cell_type": "code",
   "execution_count": 10,
   "id": "1f9c5e42",
   "metadata": {},
   "outputs": [],
   "source": [
    "os.makedirs(r\"D:\\\\SatyajitD\\\\Velocity_Jan_23\\\\03_06\\data\\PAN\\text\")"
   ]
  },
  {
   "cell_type": "code",
   "execution_count": 11,
   "id": "aecb6dc9",
   "metadata": {},
   "outputs": [
    {
     "data": {
      "text/plain": [
       "'D:\\\\\\\\SatyajitD\\\\\\\\Velocity_Jan_23\\\\\\\\03_06\\\\data\\\\PAN\\\\image\\\\pan2.jpeg'"
      ]
     },
     "execution_count": 11,
     "metadata": {},
     "output_type": "execute_result"
    }
   ],
   "source": [
    "import shutil\n",
    "\n",
    "source = \"pan2.jpeg\"\n",
    "destination = r\"D:\\\\SatyajitD\\\\Velocity_Jan_23\\\\03_06\\data\\PAN\\image\"\n",
    "\n",
    "shutil.copy(source, destination)"
   ]
  },
  {
   "cell_type": "code",
   "execution_count": 13,
   "id": "0aced0a0",
   "metadata": {},
   "outputs": [],
   "source": [
    "image_folder_path = r\"D:\\\\SatyajitD\\\\Velocity_Jan_23\\\\03_06\\data\\PAN\\image\"\n",
    "text_folder_path = r\"D:\\\\SatyajitD\\\\Velocity_Jan_23\\\\03_06\\data\\PAN\\text\""
   ]
  },
  {
   "cell_type": "code",
   "execution_count": 39,
   "id": "b1b0ff05",
   "metadata": {},
   "outputs": [
    {
     "data": {
      "text/plain": [
       "{'Image_Name': ['pan1', 'pan2', 'pan3', 'pan4', 'pan5'],\n",
       " 'PAN_Number': ['EJAPS0276M',\n",
       "  'EJAPS0276M',\n",
       "  'EJAPS0276M',\n",
       "  'EJAPS0276M',\n",
       "  'EJAPS0276M'],\n",
       " 'DOB': ['31/10/1992', '31/10/1992', '31/10/1992', '31/10/1992', '31/10/1992']}"
      ]
     },
     "execution_count": 39,
     "metadata": {},
     "output_type": "execute_result"
    }
   ],
   "source": [
    "import re\n",
    "\n",
    "pan_number_list = []\n",
    "dob_list = []\n",
    "image_name_list = []\n",
    "\n",
    "image_list = os.listdir(image_folder_path)\n",
    "\n",
    "for image_name in image_list:\n",
    "    image_path = os.path.join(image_folder_path,image_name)\n",
    "#     print(image_path)\n",
    "\n",
    "    text = pytesseract.image_to_string(image_path)\n",
    "#     print(\"**/**********************/****************/*****************\")\n",
    "#     print(text)\n",
    "#     print(\"-------------------------------------------------------------\")\n",
    "    \n",
    "    # extract name from .jpeg file\n",
    "    image_name = image_name.split(\".\")[0]\n",
    "#     print(image_name)\n",
    "    image_name_list.append(image_name)\n",
    "    \n",
    "    image_name = os.path.join(text_folder_path,image_name)\n",
    "#     print(image_name)\n",
    "    \n",
    "    # Write the file\n",
    "    with open(f\"{image_name}.txt\", \"w\") as f:\n",
    "        f.write(text)\n",
    "        \n",
    "    # to extract PAN Card Number from text\n",
    "    pan_number = re.findall(\"[A-Z]{5}\\d{4}[A-Z]\", text)[0]\n",
    "#     print(pan_number)\n",
    "    \n",
    "    if pan_number:\n",
    "#         print(pan_number)\n",
    "        pan_number_list.append(pan_number)\n",
    "    else:\n",
    "#         print(\"PAN Number is Not Found\")\n",
    "        pan_number_list.append(\"\")\n",
    "    \n",
    "    \n",
    "    # to extract DOB from text\n",
    "    dob = re.findall(\"\\d{2}[/]\\d{2}[/]\\d{4}\", text)[0]\n",
    "#     print(dob)\n",
    "    \n",
    "    if dob:\n",
    "        dob_list.append(dob)\n",
    "    else:\n",
    "#         print(\"PAN Number is Not Found\")\n",
    "        dob_list.append(\"\")\n",
    "        \n",
    "# print(pan_number_list)\n",
    "# print(dob_list)\n",
    "# print(image_name_list)\n",
    "\n",
    "result = {\"Image_Name\":image_name_list,\n",
    "            \"PAN_Number\":pan_number_list,\n",
    "             \"DOB\":dob_list}\n",
    "\n",
    "result"
   ]
  },
  {
   "cell_type": "code",
   "execution_count": 40,
   "id": "ffa44542",
   "metadata": {},
   "outputs": [
    {
     "data": {
      "text/html": [
       "<div>\n",
       "<style scoped>\n",
       "    .dataframe tbody tr th:only-of-type {\n",
       "        vertical-align: middle;\n",
       "    }\n",
       "\n",
       "    .dataframe tbody tr th {\n",
       "        vertical-align: top;\n",
       "    }\n",
       "\n",
       "    .dataframe thead th {\n",
       "        text-align: right;\n",
       "    }\n",
       "</style>\n",
       "<table border=\"1\" class=\"dataframe\">\n",
       "  <thead>\n",
       "    <tr style=\"text-align: right;\">\n",
       "      <th></th>\n",
       "      <th>Image_Name</th>\n",
       "      <th>PAN_Number</th>\n",
       "      <th>DOB</th>\n",
       "    </tr>\n",
       "  </thead>\n",
       "  <tbody>\n",
       "    <tr>\n",
       "      <th>0</th>\n",
       "      <td>pan1</td>\n",
       "      <td>EJAPS0276M</td>\n",
       "      <td>31/10/1992</td>\n",
       "    </tr>\n",
       "    <tr>\n",
       "      <th>1</th>\n",
       "      <td>pan2</td>\n",
       "      <td>EJAPS0276M</td>\n",
       "      <td>31/10/1992</td>\n",
       "    </tr>\n",
       "    <tr>\n",
       "      <th>2</th>\n",
       "      <td>pan3</td>\n",
       "      <td>EJAPS0276M</td>\n",
       "      <td>31/10/1992</td>\n",
       "    </tr>\n",
       "    <tr>\n",
       "      <th>3</th>\n",
       "      <td>pan4</td>\n",
       "      <td>EJAPS0276M</td>\n",
       "      <td>31/10/1992</td>\n",
       "    </tr>\n",
       "    <tr>\n",
       "      <th>4</th>\n",
       "      <td>pan5</td>\n",
       "      <td>EJAPS0276M</td>\n",
       "      <td>31/10/1992</td>\n",
       "    </tr>\n",
       "  </tbody>\n",
       "</table>\n",
       "</div>"
      ],
      "text/plain": [
       "  Image_Name  PAN_Number         DOB\n",
       "0       pan1  EJAPS0276M  31/10/1992\n",
       "1       pan2  EJAPS0276M  31/10/1992\n",
       "2       pan3  EJAPS0276M  31/10/1992\n",
       "3       pan4  EJAPS0276M  31/10/1992\n",
       "4       pan5  EJAPS0276M  31/10/1992"
      ]
     },
     "execution_count": 40,
     "metadata": {},
     "output_type": "execute_result"
    }
   ],
   "source": [
    "import pandas as pd\n",
    "\n",
    "df = pd.DataFrame(result)\n",
    "df"
   ]
  },
  {
   "cell_type": "code",
   "execution_count": 42,
   "id": "9ac33649",
   "metadata": {},
   "outputs": [],
   "source": [
    "df.to_csv(\"PAN_details.csv\", index=False)"
   ]
  },
  {
   "cell_type": "code",
   "execution_count": null,
   "id": "4bd3a0bc",
   "metadata": {},
   "outputs": [],
   "source": []
  }
 ],
 "metadata": {
  "kernelspec": {
   "display_name": "Python 3 (ipykernel)",
   "language": "python",
   "name": "python3"
  },
  "language_info": {
   "codemirror_mode": {
    "name": "ipython",
    "version": 3
   },
   "file_extension": ".py",
   "mimetype": "text/x-python",
   "name": "python",
   "nbconvert_exporter": "python",
   "pygments_lexer": "ipython3",
   "version": "3.11.0"
  }
 },
 "nbformat": 4,
 "nbformat_minor": 5
}
